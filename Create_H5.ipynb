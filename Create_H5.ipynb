{
 "cells": [
  {
   "cell_type": "code",
   "execution_count": 55,
   "metadata": {
    "collapsed": true
   },
   "outputs": [],
   "source": [
    "import pandas as pd\n",
    "import json\n",
    "import numpy as np"
   ]
  },
  {
   "cell_type": "markdown",
   "metadata": {},
   "source": [
    "# Function Definitions and Ranking Loading"
   ]
  },
  {
   "cell_type": "code",
   "execution_count": 56,
   "metadata": {
    "collapsed": true
   },
   "outputs": [],
   "source": [
    "def get_highest_cat(cat_list, rankings):\n",
    "    rankings = [rankings[cat.strip()]['ranking'] for cat in cat_list]\n",
    "    return cat_list[rankings.index(min(rankings))]\n",
    "\n",
    "def make_long(df):\n",
    "    firstyear = df['FirstYear'].tolist()\n",
    "    lastyear = df['LastYear'].tolist()\n",
    "    year_nested = [range(x, y+1) for x,y in zip(firstyear, lastyear)]\n",
    "    year = pd.Series([item for sublist in year_nested for item in sublist])\n",
    "\n",
    "    is_multiyear = df['YearsActive'] > 1  #  Find all multiyear businesses\n",
    "    df_try = df[is_multiyear]\n",
    "\n",
    "    df_long = df.loc[np.repeat(df.index.values, df['YearsActive'])].reset_index(drop=True)\n",
    "\n",
    "    df_long['Year'] = year.astype(int)\n",
    "    del df_long['FirstYear']\n",
    "    del df_long['LastYear']\n",
    "    del df_long['YearsActive']\n",
    "    \n",
    "    df_long.set_index(['DunsNumber', 'Year'], inplace=True)\n",
    "    \n",
    "    return df_long\n",
    "\n",
    "func = lambda x:  get_highest_cat(x.split(','), rankings)"
   ]
  },
  {
   "cell_type": "code",
   "execution_count": 57,
   "metadata": {
    "collapsed": false
   },
   "outputs": [],
   "source": [
    "ranking_config = \"C:/Users/jc4673/Documents/Columbia/nets_wrangle/category_ranking/ranking_config.json\"\n",
    "with open(ranking_config) as f:\n",
    "    rankings = json.load(f)"
   ]
  },
  {
   "cell_type": "markdown",
   "metadata": {},
   "source": [
    "# Open and Examine Store, Load Into Memory"
   ]
  },
  {
   "cell_type": "code",
   "execution_count": 58,
   "metadata": {
    "collapsed": true
   },
   "outputs": [],
   "source": [
    "hf_filename = \"C:\\Users\\jc4673\\Documents\\Columbia\\NETS2013_Wrangled\\NETS2013_Classifications.h5\""
   ]
  },
  {
   "cell_type": "code",
   "execution_count": 59,
   "metadata": {
    "collapsed": true
   },
   "outputs": [],
   "source": [
    "store = pd.HDFStore(hf_filename, mode='a')"
   ]
  },
  {
   "cell_type": "code",
   "execution_count": 60,
   "metadata": {
    "collapsed": false
   },
   "outputs": [
    {
     "data": {
      "text/plain": [
       "<class 'pandas.io.pytables.HDFStore'>\n",
       "File path: C:\\Users\\jc4673\\Documents\\Columbia\\NETS2013_Wrangled\\NETS2013_Classifications.h5\n",
       "/Classifications            frame_table  (typ->appendable_multi,nrows->58899949,ncols->16,indexers->[index],dc->[FirstYear,DunsNumber,LastYear,Change,Industry,IndustryGroup,Company,TradeName,SIC,Sales,Emp,YearsActive,BEH_LargestPercent,BEH_SIC,Class,BEH_Class])                              \n",
       "/Locations                  frame_table  (typ->appendable_multi,nrows->59747065,ncols->19,indexers->[index],dc->[FirstYear,DunsNumber,LastYear,BEH_LOC,BEH_ID,Company,PrimAdd,PrimCity,PrimFipsCounty,PrimState,PrimZip,SecAdd,SecCity,SecFipsCounty,SecState,SecZip,Latitude,Longitude,LevelCode])"
      ]
     },
     "execution_count": 60,
     "metadata": {},
     "output_type": "execute_result"
    }
   ],
   "source": [
    "store"
   ]
  },
  {
   "cell_type": "code",
   "execution_count": 61,
   "metadata": {
    "collapsed": false
   },
   "outputs": [],
   "source": [
    "sub_class = store.select('Classifications', \"columns=['DunsNumber', 'FirstYear', 'LastYear', 'Class', 'BEH_Class']\")"
   ]
  },
  {
   "cell_type": "markdown",
   "metadata": {},
   "source": [
    "# Start Creating Subsets and Writing to h5"
   ]
  },
  {
   "cell_type": "markdown",
   "metadata": {},
   "source": [
    "##  Get Total BEH_Class Counts of all National Businesses"
   ]
  },
  {
   "cell_type": "code",
   "execution_count": 64,
   "metadata": {
    "collapsed": false
   },
   "outputs": [],
   "source": [
    "sub_class.reset_index(drop=False, inplace=True)\n",
    "sub_class['LastYear'] = sub_class['LastYear'].astype(int)"
   ]
  },
  {
   "cell_type": "code",
   "execution_count": 65,
   "metadata": {
    "collapsed": true
   },
   "outputs": [],
   "source": [
    "sub_class['YearsActive'] = sub_class['LastYear'] - sub_class['FirstYear']"
   ]
  },
  {
   "cell_type": "code",
   "execution_count": 66,
   "metadata": {
    "collapsed": false
   },
   "outputs": [],
   "source": [
    "BEH_counts = sub_class.drop_duplicates('DunsNumber', keep='first')[['DunsNumber', 'BEH_Class']].groupby('BEH_Class').count()"
   ]
  },
  {
   "cell_type": "code",
   "execution_count": 67,
   "metadata": {
    "collapsed": false
   },
   "outputs": [],
   "source": [
    "BEH_counts.reset_index(inplace=True)\n",
    "BEH_counts['BEH_Class'] = BEH_counts['BEH_Class'].apply(func)"
   ]
  },
  {
   "cell_type": "code",
   "execution_count": 68,
   "metadata": {
    "collapsed": false
   },
   "outputs": [],
   "source": [
    "BEH_counts = BEH_counts.groupby('BEH_Class').sum()"
   ]
  },
  {
   "cell_type": "code",
   "execution_count": null,
   "metadata": {
    "collapsed": true
   },
   "outputs": [],
   "source": [
    "#add to the store\n",
    "store.append('BEH_counts', BEH_counts, data_columns=True)"
   ]
  },
  {
   "cell_type": "markdown",
   "metadata": {},
   "source": [
    "## Get Counts Yearly of All Non-'Not' Businesses"
   ]
  },
  {
   "cell_type": "code",
   "execution_count": 69,
   "metadata": {
    "collapsed": false
   },
   "outputs": [],
   "source": [
    "sub_class_not = sub_class[sub_class['Class'] == 'not']\n",
    "sub_class = sub_class[sub_class['Class'] != 'not']\n",
    "grouped = sub_class.groupby(['Class'])"
   ]
  },
  {
   "cell_type": "code",
   "execution_count": 70,
   "metadata": {
    "collapsed": false
   },
   "outputs": [],
   "source": [
    "df = pd.DataFrame()\n",
    "for name, group in grouped:\n",
    "    long_group = make_long(group).groupby(level=1).count()\n",
    "    long_group.index = pd.MultiIndex.from_tuples([(name, x) for x in long_group.index])\n",
    "    df = pd.concat([df, long_group]) #df.append(long_group)"
   ]
  },
  {
   "cell_type": "code",
   "execution_count": 71,
   "metadata": {
    "collapsed": false
   },
   "outputs": [],
   "source": [
    "df.index = df.index.set_names(['Class', 'Year'])\n",
    "df.rename(columns={'Class':  'Count'}, inplace=True)\n",
    "df['Count'] = df"
   ]
  },
  {
   "cell_type": "code",
   "execution_count": 88,
   "metadata": {
    "collapsed": false
   },
   "outputs": [],
   "source": [
    "counts_copy = df"
   ]
  },
  {
   "cell_type": "code",
   "execution_count": 89,
   "metadata": {
    "collapsed": false
   },
   "outputs": [],
   "source": [
    "df = df.reset_index(drop=False)\n",
    "df['Class'] = df['Class'].apply(func)"
   ]
  },
  {
   "cell_type": "code",
   "execution_count": 95,
   "metadata": {
    "collapsed": false
   },
   "outputs": [],
   "source": [
    "yearly_counts = df.groupby(['Class', 'Year']).sum()['Count']"
   ]
  },
  {
   "cell_type": "code",
   "execution_count": 96,
   "metadata": {
    "collapsed": true
   },
   "outputs": [],
   "source": [
    "store.append('Yearly_Counts', yearly_counts, data_columns=True)"
   ]
  },
  {
   "cell_type": "code",
   "execution_count": 97,
   "metadata": {
    "collapsed": false
   },
   "outputs": [
    {
     "data": {
      "text/plain": [
       "<class 'pandas.io.pytables.HDFStore'>\n",
       "File path: C:\\Users\\jc4673\\Documents\\Columbia\\NETS2013_Wrangled\\NETS2013_Classifications.h5\n",
       "/Classifications            frame_table  (typ->appendable_multi,nrows->58899949,ncols->16,indexers->[index],dc->[FirstYear,DunsNumber,LastYear,Change,Industry,IndustryGroup,Company,TradeName,SIC,Sales,Emp,YearsActive,BEH_LargestPercent,BEH_SIC,Class,BEH_Class])                              \n",
       "/Locations                  frame_table  (typ->appendable_multi,nrows->59747065,ncols->19,indexers->[index],dc->[FirstYear,DunsNumber,LastYear,BEH_LOC,BEH_ID,Company,PrimAdd,PrimCity,PrimFipsCounty,PrimState,PrimZip,SecAdd,SecCity,SecFipsCounty,SecState,SecZip,Latitude,Longitude,LevelCode])\n",
       "/Yearly_Counts              series_table (typ->appendable,nrows->648,ncols->3,indexers->[index],dc->[Class,Year,Count])                                                                                                                                                                            "
      ]
     },
     "execution_count": 97,
     "metadata": {},
     "output_type": "execute_result"
    }
   ],
   "source": [
    "store"
   ]
  },
  {
   "cell_type": "code",
   "execution_count": 99,
   "metadata": {
    "collapsed": false
   },
   "outputs": [],
   "source": [
    "store.close()"
   ]
  },
  {
   "cell_type": "markdown",
   "metadata": {
    "collapsed": true
   },
   "source": [
    "# By State"
   ]
  },
  {
   "cell_type": "code",
   "execution_count": null,
   "metadata": {
    "collapsed": true
   },
   "outputs": [],
   "source": [
    "infile = \"C:\\Users\\jc4673\\Documents\\Columbia\\NETS2013_Wrangled\\NETS2013_Classifications.h5\"\n",
    "\n",
    "store = pd.HDFStore(infile, mode='a')\n",
    "store\n",
    "\n",
    "sub_locations = store.select('Locations', where=\"'PrimState'=['NY', 'CA', 'FL', 'OH', 'VT', 'KS'] & columns=['PrimState']\")\n",
    "\n",
    "sub_locations.index = sub_locations.index.droplevel(1)\n",
    "idx = np.unique(sub_locations.index, return_index=True)[1]\n",
    "sub_locations = sub_locations.iloc[idx]\n",
    "\n",
    "ind = sub_locations.index\n",
    "sub_class = store.select('Classifications', \"columns=['DunsNumber', 'FirstYear', 'LastYear', 'Class', 'BEH_Class']\")\n",
    "\n",
    "store.close()\n",
    "\n",
    "sub_frame = sub_locations.join(sub_class, how='left')\n",
    "\n",
    "sub_frame_long = make_long(sub_frame)"
   ]
  },
  {
   "cell_type": "code",
   "execution_count": null,
   "metadata": {
    "collapsed": true
   },
   "outputs": [],
   "source": [
    "sub_frame.to_hdf(\"C:\\Users\\jc4673\\Documents\\Columbia\\NETS2013_Wrangled\\long_states.h5\", 'long_states', mode='a')"
   ]
  }
 ],
 "metadata": {
  "kernelspec": {
   "display_name": "Python [Root]",
   "language": "python",
   "name": "Python [Root]"
  },
  "language_info": {
   "codemirror_mode": {
    "name": "ipython",
    "version": 2
   },
   "file_extension": ".py",
   "mimetype": "text/x-python",
   "name": "python",
   "nbconvert_exporter": "python",
   "pygments_lexer": "ipython2",
   "version": "2.7.12"
  }
 },
 "nbformat": 4,
 "nbformat_minor": 0
}
