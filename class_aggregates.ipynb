{
 "cells": [
  {
   "cell_type": "code",
   "execution_count": null,
   "metadata": {
    "collapsed": true
   },
   "outputs": [],
   "source": [
    "%matplotlib inline"
   ]
  },
  {
   "cell_type": "code",
   "execution_count": null,
   "metadata": {
    "collapsed": false
   },
   "outputs": [],
   "source": [
    "import class_aggregates as ag\n",
    "import pandas as pd\n",
    "import matplotlib.pyplot as plt\n",
    "import plotly.offline as py\n",
    "import plotly.graph_objs as go\n",
    "import cufflinks as cf"
   ]
  },
  {
   "cell_type": "code",
   "execution_count": null,
   "metadata": {
    "collapsed": false
   },
   "outputs": [],
   "source": [
    "py.init_notebook_mode(connected=True) # run at the start of every ipython notebook to use plotly.offline\n",
    "                     # this injects the plotly.js source files into the notebook"
   ]
  },
  {
   "cell_type": "markdown",
   "metadata": {},
   "source": [
    "# Create DataFrame of Aggregate Counts"
   ]
  },
  {
   "cell_type": "code",
   "execution_count": null,
   "metadata": {
    "collapsed": false
   },
   "outputs": [],
   "source": [
    "infile = 'C:\\Users\\jc4673\\Documents\\Columbia\\NETS_Clients2013ASCI\\SIC_transformed.txt'\n",
    "config_path = r'C:\\Users\\jc4673\\Documents\\Columbia\\nets_wrangle\\ranking_config.json'\n",
    "\n",
    "config = ag.json_load(config_path)  # load the configuration file\n",
    "\n",
    "sic_df = pd.read_table(infile)   # load the long sic code table into memory by data frame\n",
    "\n",
    "# Apply mutually exclusive overall class by rankings\n",
    "class_series = sic_df['Overall_Class'].apply(lambda x: ag.get_highest_rank(x, config))\n",
    "# Join DunsNumber to overall class and drop duplicate DunsNumber (non longitudinal)\n",
    "class_df = pd.concat([sic_df['DunsNumber'],class_series], axis=1).drop_duplicates(subset='DunsNumber')\n",
    "\n",
    "counts = pd.DataFrame({'count' : class_df.groupby(by='Overall_Class').size()})"
   ]
  },
  {
   "cell_type": "markdown",
   "metadata": {},
   "source": [
    "# Plotly Plots"
   ]
  },
  {
   "cell_type": "code",
   "execution_count": null,
   "metadata": {
    "collapsed": false
   },
   "outputs": [],
   "source": [
    "trace = go.Bar(\n",
    "    x = counts.index.values, y=counts['count'].values)\n",
    "data = [trace]\n",
    "layout = dict(title = \"Overall Business Classification Frequencies\",\n",
    "              xaxis = dict(title = 'Business Category'),\n",
    "              yaxis = dict(title = 'Number of Businesses'))"
   ]
  },
  {
   "cell_type": "code",
   "execution_count": null,
   "metadata": {
    "collapsed": false
   },
   "outputs": [],
   "source": [
    "fig = go.Figure(data=data, layout=layout)\n",
    "py.iplot(fig)"
   ]
  },
  {
   "cell_type": "code",
   "execution_count": null,
   "metadata": {
    "collapsed": false
   },
   "outputs": [],
   "source": [
    "counts.iplot(kind='bar', title='Overall Business Classification Frequencies',\n",
    "             xTitle='Business Category',\n",
    "             yTitle='Number of Businesses') #different method for the same plot"
   ]
  },
  {
   "cell_type": "markdown",
   "metadata": {},
   "source": [
    "# Matplotlib Plots"
   ]
  },
  {
   "cell_type": "code",
   "execution_count": null,
   "metadata": {
    "collapsed": false
   },
   "outputs": [],
   "source": [
    "ax1 = counts.plot.bar(ylim=1000)\n",
    "ax1.set_ylim(0,10000)\n",
    "ax1.set_ylabel('Frequency')"
   ]
  },
  {
   "cell_type": "code",
   "execution_count": null,
   "metadata": {
    "collapsed": false
   },
   "outputs": [],
   "source": [
    "ax1 = counts.plot.bar(ylim=1000)\n",
    "ax1.set_ylim(0,2000)\n",
    "ax1.set_ylabel('Frequency')"
   ]
  },
  {
   "cell_type": "markdown",
   "metadata": {},
   "source": [
    "Non-Represented Classes\n",
    "-----------\n",
    "\n",
    "* Bakeries\n",
    "* Meat Markets\n",
    "* Fruit and Vegetable Markets\n",
    "* Natural food markets and nut stores\n",
    "* Supermarkets\n",
    "* Bars\n",
    "* Urgent Care\n",
    "* Health Practitioner Offices\n",
    "* Residential Facilities With Health Care\n",
    "* Pharmacies\n",
    "* Mental Health Care Facilities\n",
    "* Dental Care Facilities\n",
    "* Vigorous Physical Activity Facilities\n",
    "* Light/Moderate physical activity Facility\n",
    "* Banks\n",
    "* Credit Unions\n",
    "\n",
    "**<font color = red>Keep in mind this is only ~0.9% of the Data, and the sample may not be truly random</font>**\n"
   ]
  },
  {
   "cell_type": "markdown",
   "metadata": {},
   "source": [
    "# Longitudinal Plots"
   ]
  },
  {
   "cell_type": "code",
   "execution_count": null,
   "metadata": {
    "collapsed": false
   },
   "outputs": [],
   "source": [
    "# Apply mutually exclusive overall class by rankings\n",
    "class_long_series = sic_df['Class_Here'].apply(lambda x: ag.get_highest_rank(x, config))"
   ]
  },
  {
   "cell_type": "code",
   "execution_count": null,
   "metadata": {
    "collapsed": false
   },
   "outputs": [],
   "source": [
    "# Add Year and grou\n",
    "class_df = pd.concat([sic_df['Year'],class_long_series], axis=1)\n",
    "grouped = class_df.groupby(['Year', 'Class_Here']).size().reset_index(name='counts')\n",
    "grouped_pivot = grouped.pivot('Year','Class_Here','counts').fillna(0) #pivot for line graph"
   ]
  },
  {
   "cell_type": "code",
   "execution_count": null,
   "metadata": {
    "collapsed": false
   },
   "outputs": [],
   "source": [
    "grouped_pivot.iplot(kind='line',\n",
    "                    title = 'Business Categories Change over Time',\n",
    "                    xTitle = 'Year',\n",
    "                    yTitle = 'Number of Businesses') #full plot"
   ]
  },
  {
   "cell_type": "code",
   "execution_count": null,
   "metadata": {
    "collapsed": false
   },
   "outputs": [],
   "source": [
    "# Remove \"nots\" and re-plot\n",
    "grouped_notnot = grouped_pivot\n",
    "del grouped_notnot['not']\n",
    "grouped_notnot.iplot(kind='line', \n",
    "                     title = 'Business Categories Change over Time (Destinations Only)',\n",
    "                     xTitle = 'Year',\n",
    "                     yTitle = 'Number of Businesses')"
   ]
  },
  {
   "cell_type": "code",
   "execution_count": null,
   "metadata": {
    "collapsed": false
   },
   "outputs": [],
   "source": [
    "# Remove \"des\" and re-plot\n",
    "grouped_notdes = grouped_notnot\n",
    "del grouped_notdes['des']\n",
    "grouped_notdes.iplot(kind='line', \n",
    "                     title = 'Business Categories Change over Time (Specific Destinations Only)',\n",
    "                     xTitle = 'Year',\n",
    "                     yTitle = 'Number of Businesses')"
   ]
  },
  {
   "cell_type": "code",
   "execution_count": null,
   "metadata": {
    "collapsed": true
   },
   "outputs": [],
   "source": []
  }
 ],
 "metadata": {
  "kernelspec": {
   "display_name": "Python 2",
   "language": "python",
   "name": "python2"
  },
  "language_info": {
   "codemirror_mode": {
    "name": "ipython",
    "version": 2
   },
   "file_extension": ".py",
   "mimetype": "text/x-python",
   "name": "python",
   "nbconvert_exporter": "python",
   "pygments_lexer": "ipython2",
   "version": "2.7.11"
  }
 },
 "nbformat": 4,
 "nbformat_minor": 0
}
