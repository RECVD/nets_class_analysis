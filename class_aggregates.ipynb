{
 "cells": [
  {
   "cell_type": "code",
   "execution_count": 157,
   "metadata": {
    "collapsed": true
   },
   "outputs": [],
   "source": [
    "%matplotlib inline"
   ]
  },
  {
   "cell_type": "code",
   "execution_count": 158,
   "metadata": {
    "collapsed": true
   },
   "outputs": [],
   "source": [
    "import class_aggregates as ag\n",
    "import pandas as pd\n",
    "import matplotlib.pyplot as plt\n",
    "import plotly.offline as py\n",
    "import plotly.graph_objs as go\n",
    "import cufflinks as cf"
   ]
  },
  {
   "cell_type": "code",
   "execution_count": 159,
   "metadata": {
    "collapsed": false
   },
   "outputs": [
    {
     "data": {
      "text/html": [
       "<script>requirejs.config({paths: { 'plotly': ['https://cdn.plot.ly/plotly-latest.min']},});if(!window.Plotly) {{require(['plotly'],function(plotly) {window.Plotly=plotly;});}}</script>"
      ],
      "text/plain": [
       "<IPython.core.display.HTML object>"
      ]
     },
     "metadata": {},
     "output_type": "display_data"
    }
   ],
   "source": [
    "py.init_notebook_mode(connected=True) # run at the start of every ipython notebook to use plotly.offline\n",
    "                     # this injects the plotly.js source files into the notebook"
   ]
  },
  {
   "cell_type": "markdown",
   "metadata": {},
   "source": [
    "# Create DataFrame of Aggregate Counts"
   ]
  },
  {
   "cell_type": "code",
   "execution_count": 160,
   "metadata": {
    "collapsed": false
   },
   "outputs": [
    {
     "data": {
      "text/html": [
       "<div>\n",
       "<table border=\"1\" class=\"dataframe\">\n",
       "  <thead>\n",
       "    <tr style=\"text-align: right;\">\n",
       "      <th></th>\n",
       "      <th>count</th>\n",
       "    </tr>\n",
       "    <tr>\n",
       "      <th>Overall_Class</th>\n",
       "      <th></th>\n",
       "    </tr>\n",
       "  </thead>\n",
       "  <tbody>\n",
       "    <tr>\n",
       "      <th>aff</th>\n",
       "      <td>141</td>\n",
       "    </tr>\n",
       "    <tr>\n",
       "      <th>bds</th>\n",
       "      <td>125</td>\n",
       "    </tr>\n",
       "    <tr>\n",
       "      <th>cnv</th>\n",
       "      <td>283</td>\n",
       "    </tr>\n",
       "    <tr>\n",
       "      <th>des</th>\n",
       "      <td>9736</td>\n",
       "    </tr>\n",
       "    <tr>\n",
       "      <th>eat</th>\n",
       "      <td>1847</td>\n",
       "    </tr>\n",
       "    <tr>\n",
       "      <th>error</th>\n",
       "      <td>2</td>\n",
       "    </tr>\n",
       "    <tr>\n",
       "      <th>fsh</th>\n",
       "      <td>25</td>\n",
       "    </tr>\n",
       "    <tr>\n",
       "      <th>fvm</th>\n",
       "      <td>72</td>\n",
       "    </tr>\n",
       "    <tr>\n",
       "      <th>gry</th>\n",
       "      <td>413</td>\n",
       "    </tr>\n",
       "    <tr>\n",
       "      <th>liq</th>\n",
       "      <td>146</td>\n",
       "    </tr>\n",
       "    <tr>\n",
       "      <th>mul</th>\n",
       "      <td>20</td>\n",
       "    </tr>\n",
       "    <tr>\n",
       "      <th>not</th>\n",
       "      <td>86613</td>\n",
       "    </tr>\n",
       "    <tr>\n",
       "      <th>piz</th>\n",
       "      <td>122</td>\n",
       "    </tr>\n",
       "    <tr>\n",
       "      <th>war</th>\n",
       "      <td>3</td>\n",
       "    </tr>\n",
       "  </tbody>\n",
       "</table>\n",
       "</div>"
      ],
      "text/plain": [
       "               count\n",
       "Overall_Class       \n",
       "aff              141\n",
       "bds              125\n",
       "cnv              283\n",
       "des             9736\n",
       "eat             1847\n",
       "error              2\n",
       "fsh               25\n",
       "fvm               72\n",
       "gry              413\n",
       "liq              146\n",
       "mul               20\n",
       "not            86613\n",
       "piz              122\n",
       "war                3"
      ]
     },
     "execution_count": 160,
     "metadata": {},
     "output_type": "execute_result"
    }
   ],
   "source": [
    "infile = 'C:\\Users\\jc4673\\Documents\\Columbia\\NETS_Clients2013ASCI\\SIC_transformed.txt'\n",
    "config_path = r'C:\\Users\\jc4673\\Documents\\Columbia\\nets_wrangle\\ranking_config.json'\n",
    "\n",
    "config = ag.json_load(config_path)  # load the configuration file\n",
    "\n",
    "sic_df = pd.read_table(infile)   # load the long sic code table into memory by data frame\n",
    "\n",
    "# Apply mutually exclusive overall class by rankings\n",
    "class_series = sic_df['Overall_Class'].apply(lambda x: ag.get_highest_rank(x, config))\n",
    "# Join DunsNumber to overall class and drop duplicate DunsNumber (non longitudinal)\n",
    "class_df = pd.concat([sic_df['DunsNumber'],class_series], axis=1).drop_duplicates(subset='DunsNumber')\n",
    "\n",
    "counts = pd.DataFrame({'count' : class_df.groupby(by='Overall_Class').size()})"
   ]
  },
  {
   "cell_type": "markdown",
   "metadata": {},
   "source": [
    "# Plotly Plots"
   ]
  },
  {
   "cell_type": "code",
   "execution_count": 161,
   "metadata": {
    "collapsed": false
   },
   "outputs": [],
   "source": [
    "trace = go.Bar(\n",
    "    x = counts.index.values, y=counts['count'].values)\n",
    "data = [trace]\n",
    "layout = dict(title = \"Overall Business Classification Frequencies\",\n",
    "              xaxis = dict(title = 'Business Category'),\n",
    "              yaxis = dict(title = 'Number of Businesses'))"
   ]
  },
  {
   "cell_type": "code",
   "execution_count": 162,
   "metadata": {
    "collapsed": false
   },
   "outputs": [
    {
     "data": {
      "text/html": [
       "<div id=\"ab2b8bef-8388-4912-b7af-ab72aa2b3c7e\" style=\"height: 525px; width: 100%;\" class=\"plotly-graph-div\"></div><script type=\"text/javascript\">require([\"plotly\"], function(Plotly) { window.PLOTLYENV=window.PLOTLYENV || {};window.PLOTLYENV.BASE_URL=\"https://plot.ly\";Plotly.newPlot(\"ab2b8bef-8388-4912-b7af-ab72aa2b3c7e\", [{\"y\": [141, 125, 283, 9736, 1847, 2, 25, 72, 413, 146, 20, 86613, 122, 3], \"x\": [\"aff\", \"bds\", \"cnv\", \"des\", \"eat\", \"error\", \"fsh\", \"fvm\", \"gry\", \"liq\", \"mul\", \"not\", \"piz\", \"war\"], \"type\": \"bar\"}], {\"yaxis\": {\"title\": \"Number of Businesses\"}, \"xaxis\": {\"title\": \"Business Category\"}, \"title\": \"Overall Business Classification Frequencies\"}, {\"linkText\": \"Export to plot.ly\", \"showLink\": true})});</script>"
      ],
      "text/plain": [
       "<IPython.core.display.HTML object>"
      ]
     },
     "metadata": {},
     "output_type": "display_data"
    }
   ],
   "source": [
    "fig = go.Figure(data=data, layout=layout)\n",
    "py.iplot(fig)"
   ]
  },
  {
   "cell_type": "code",
   "execution_count": 163,
   "metadata": {
    "collapsed": false
   },
   "outputs": [
    {
     "data": {
      "text/html": [
       "<iframe id=\"igraph\" scrolling=\"no\" style=\"border:none;\" seamless=\"seamless\" src=\"https://plot.ly/~jcahill225/19.embed\" height=\"525px\" width=\"100%\"></iframe>"
      ],
      "text/plain": [
       "<plotly.tools.PlotlyDisplay object>"
      ]
     },
     "execution_count": 163,
     "metadata": {},
     "output_type": "execute_result"
    }
   ],
   "source": [
    "counts.iplot(kind='bar', title='Overall Business Classification Frequencies',\n",
    "             xTitle='Business Category',\n",
    "             yTitle='Number of Businesses') #different method for the same plot"
   ]
  },
  {
   "cell_type": "markdown",
   "metadata": {},
   "source": [
    "# Matplotlib Plots"
   ]
  },
  {
   "cell_type": "code",
   "execution_count": 164,
   "metadata": {
    "collapsed": false
   },
   "outputs": [
    {
     "data": {
      "text/plain": [
       "<matplotlib.text.Text at 0x1fa6d940>"
      ]
     },
     "execution_count": 164,
     "metadata": {},
     "output_type": "execute_result"
    },
    {
     "data": {
      "image/png": "[encoded data removed]",
      "text/plain": [
       "<matplotlib.figure.Figure at 0x16e89630>"
      ]
     },
     "metadata": {},
     "output_type": "display_data"
    }
   ],
   "source": [
    "ax1 = counts.plot.bar(ylim=1000)\n",
    "ax1.set_ylim(0,10000)\n",
    "ax1.set_ylabel('Frequency')"
   ]
  },
  {
   "cell_type": "code",
   "execution_count": 165,
   "metadata": {
    "collapsed": false
   },
   "outputs": [
    {
     "data": {
      "text/plain": [
       "<matplotlib.text.Text at 0x12bb7630>"
      ]
     },
     "execution_count": 165,
     "metadata": {},
     "output_type": "execute_result"
    },
    {
     "data": {
      "image/png": "[encoded data removed]",
      "text/plain": [
       "<matplotlib.figure.Figure at 0x8560ef0>"
      ]
     },
     "metadata": {},
     "output_type": "display_data"
    }
   ],
   "source": [
    "ax1 = counts.plot.bar(ylim=1000)\n",
    "ax1.set_ylim(0,2000)\n",
    "ax1.set_ylabel('Frequency')"
   ]
  },
  {
   "cell_type": "markdown",
   "metadata": {},
   "source": [
    "Non-Represented Classes\n",
    "-----------\n",
    "\n",
    "* Bakeries\n",
    "* Meat Markets\n",
    "* Fruit and Vegetable Markets\n",
    "* Natural food markets and nut stores\n",
    "* Supermarkets\n",
    "* Bars\n",
    "* Urgent Care\n",
    "* Health Practitioner Offices\n",
    "* Residential Facilities With Health Care\n",
    "* Pharmacies\n",
    "* Mental Health Care Facilities\n",
    "* Dental Care Facilities\n",
    "* Vigorous Physical Activity Facilities\n",
    "* Light/Moderate physical activity Facility\n",
    "* Banks\n",
    "* Credit Unions\n",
    "\n",
    "**<font color = red>Keep in mind this is only ~0.9% of the Data, and the sample may not be truly random</font>**\n"
   ]
  },
  {
   "cell_type": "markdown",
   "metadata": {},
   "source": [
    "# Longitudinal Plots"
   ]
  },
  {
   "cell_type": "code",
   "execution_count": 166,
   "metadata": {
    "collapsed": false
   },
   "outputs": [],
   "source": [
    "# Apply mutually exclusive overall class by rankings\n",
    "class_long_series = sic_df['Class_Here'].apply(lambda x: ag.get_highest_rank(x, config))"
   ]
  },
  {
   "cell_type": "code",
   "execution_count": 167,
   "metadata": {
    "collapsed": false
   },
   "outputs": [],
   "source": [
    "# Add Year and grou\n",
    "class_df = pd.concat([sic_df['Year'],class_long_series], axis=1)\n",
    "grouped = class_df.groupby(['Year', 'Class_Here']).size().reset_index(name='counts')\n",
    "grouped_pivot = grouped.pivot('Year','Class_Here','counts').fillna(0) #pivot for line graph"
   ]
  },
  {
   "cell_type": "code",
   "execution_count": 168,
   "metadata": {
    "collapsed": false
   },
   "outputs": [
    {
     "data": {
      "text/html": [
       "<iframe id=\"igraph\" scrolling=\"no\" style=\"border:none;\" seamless=\"seamless\" src=\"https://plot.ly/~jcahill225/39.embed\" height=\"525px\" width=\"100%\"></iframe>"
      ],
      "text/plain": [
       "<plotly.tools.PlotlyDisplay object>"
      ]
     },
     "execution_count": 168,
     "metadata": {},
     "output_type": "execute_result"
    }
   ],
   "source": [
    "grouped_pivot.iplot(kind='line',\n",
    "                    title = 'Business Categories Change over Time',\n",
    "                    xTitle = 'Year',\n",
    "                    yTitle = 'Number of Businesses') #full plot"
   ]
  },
  {
   "cell_type": "code",
   "execution_count": 169,
   "metadata": {
    "collapsed": false
   },
   "outputs": [
    {
     "data": {
      "text/html": [
       "<iframe id=\"igraph\" scrolling=\"no\" style=\"border:none;\" seamless=\"seamless\" src=\"https://plot.ly/~jcahill225/41.embed\" height=\"525px\" width=\"100%\"></iframe>"
      ],
      "text/plain": [
       "<plotly.tools.PlotlyDisplay object>"
      ]
     },
     "execution_count": 169,
     "metadata": {},
     "output_type": "execute_result"
    }
   ],
   "source": [
    "# Remove \"nots\" and re-plot\n",
    "grouped_notnot = grouped_pivot\n",
    "del grouped_notnot['not']\n",
    "grouped_notnot.iplot(kind='line', \n",
    "                     title = 'Business Categories Change over Time (Destinations Only)',\n",
    "                     xTitle = 'Year',\n",
    "                     yTitle = 'Number of Businesses')"
   ]
  },
  {
   "cell_type": "code",
   "execution_count": 170,
   "metadata": {
    "collapsed": false
   },
   "outputs": [
    {
     "data": {
      "text/html": [
       "<iframe id=\"igraph\" scrolling=\"no\" style=\"border:none;\" seamless=\"seamless\" src=\"https://plot.ly/~jcahill225/45.embed\" height=\"525px\" width=\"100%\"></iframe>"
      ],
      "text/plain": [
       "<plotly.tools.PlotlyDisplay object>"
      ]
     },
     "execution_count": 170,
     "metadata": {},
     "output_type": "execute_result"
    }
   ],
   "source": [
    "# Remove \"des\" and re-plot\n",
    "grouped_notdes = grouped_notnot\n",
    "del grouped_notdes['des']\n",
    "grouped_notdes.iplot(kind='line', \n",
    "                     title = 'Business Categories Change over Time (Specific Destinations Only)',\n",
    "                     xTitle = 'Year',\n",
    "                     yTitle = 'Number of Businesses')"
   ]
  },
  {
   "cell_type": "code",
   "execution_count": null,
   "metadata": {
    "collapsed": true
   },
   "outputs": [],
   "source": []
  }
 ],
 "metadata": {
  "kernelspec": {
   "display_name": "Python 2",
   "language": "python",
   "name": "python2"
  },
  "language_info": {
   "codemirror_mode": {
    "name": "ipython",
    "version": 2
   },
   "file_extension": ".py",
   "mimetype": "text/x-python",
   "name": "python",
   "nbconvert_exporter": "python",
   "pygments_lexer": "ipython2",
   "version": "2.7.11"
  }
 },
 "nbformat": 4,
 "nbformat_minor": 0
}
