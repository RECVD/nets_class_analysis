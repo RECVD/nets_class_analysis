{
 "cells": [
  {
   "cell_type": "code",
   "execution_count": null,
   "metadata": {},
   "outputs": [],
   "source": [
    "%matplotlib inline"
   ]
  },
  {
   "cell_type": "code",
   "execution_count": null,
   "metadata": {},
   "outputs": [],
   "source": [
    "import pandas as pd\n",
    "import matplotlib.pyplot as plt\n",
    "import plotly.offline as py\n",
    "import plotly.graph_objs as go\n",
    "import cufflinks as cf\n",
    "import plotly\n",
    "import json\n",
    "plotly.tools.set_credentials_file(username='jc4673', api_key='dwruizxiu5')"
   ]
  },
  {
   "cell_type": "code",
   "execution_count": null,
   "metadata": {},
   "outputs": [],
   "source": [
    "py.init_notebook_mode(connected=True) # run at the start of every ipython notebook to use plotly.offline\n",
    "                     # this injects the plotly.js source files into the notebook\n",
    "cf.go_offline()"
   ]
  },
  {
   "cell_type": "code",
   "execution_count": null,
   "metadata": {},
   "outputs": [],
   "source": [
    "def get_highest_cat(cat_list, rankings):\n",
    "    rankings = [rankings[cat.strip()]['ranking'] for cat in cat_list]\n",
    "    return cat_list[rankings.index(min(rankings))]"
   ]
  },
  {
   "cell_type": "code",
   "execution_count": null,
   "metadata": {},
   "outputs": [],
   "source": [
    "ranking_config = \"C:/Users/jc4673/Documents/Columbia/nets_wrangle/category_ranking/ranking_config.json\"\n",
    "with open(ranking_config) as f:\n",
    "    rankings = json.load(f)"
   ]
  },
  {
   "cell_type": "code",
   "execution_count": null,
   "metadata": {},
   "outputs": [],
   "source": [
    "infile_long = r'C:\\Users\\jc4673\\Documents\\Columbia\\NETS2013_Wrangled\\NETS2013_Classifications_Long.txt'\n",
    "infile_normal = r'C:\\Users\\jc4673\\Documents\\Columbia\\NETS2013_Wrangled\\NETS2013_Classifications.txt'\n",
    "df_long = pd.read_table(infile_long, chunksize=10**6)\n",
    "df_normal = pd.read_table(infile_normal, chunksize=10**6)"
   ]
  },
  {
   "cell_type": "code",
   "execution_count": null,
   "metadata": {},
   "outputs": [],
   "source": [
    "#Perform initial counts for first chunk\n",
    "long_chunk = df_long.get_chunk()\n",
    "normal_chunk = df_normal.get_chunk()"
   ]
  },
  {
   "cell_type": "code",
   "execution_count": null,
   "metadata": {},
   "outputs": [],
   "source": [
    "beh_counts = normal_chunk.drop_duplicates(subset='DunsNumber', keep='first').groupby('BEH_Class').count()\n",
    "counts = long_chunk.groupby(['Year', 'Class']).count()['DunsNumber']"
   ]
  },
  {
   "cell_type": "code",
   "execution_count": null,
   "metadata": {},
   "outputs": [],
   "source": [
    "#additively get BEH counts for remaining chunks\n",
    "for chunk in df_normal:\n",
    "    beh_counts = beh_counts.add(chunk.drop_duplicates(subset='DunsNumber', keep='first').groupby('BEH_Class').count(),\n",
    "                                fill_value=0)"
   ]
  },
  {
   "cell_type": "code",
   "execution_count": null,
   "metadata": {},
   "outputs": [],
   "source": [
    "beh_counts.drop('not', inplace=True)"
   ]
  },
  {
   "cell_type": "code",
   "execution_count": null,
   "metadata": {},
   "outputs": [],
   "source": [
    "beh_counts = beh_counts.reset_index(drop=False)\n",
    "beh_counts = beh_counts[['BEH_Class', 'DunsNumber']]"
   ]
  },
  {
   "cell_type": "code",
   "execution_count": null,
   "metadata": {},
   "outputs": [],
   "source": [
    "func = lambda x:  get_highest_cat(x.split(','), rankings)\n",
    "beh_counts['BEH_Class'] = beh_counts['BEH_Class'].apply(func)"
   ]
  },
  {
   "cell_type": "code",
   "execution_count": null,
   "metadata": {},
   "outputs": [],
   "source": [
    "beh_counts = beh_counts.groupby('BEH_Class').sum()\n",
    "beh_counts['DunsNumber'] = beh_counts['DunsNumber'].astype(int)"
   ]
  },
  {
   "cell_type": "code",
   "execution_count": null,
   "metadata": {},
   "outputs": [],
   "source": [
    "beh_counts.columns = ['Counts']"
   ]
  },
  {
   "cell_type": "code",
   "execution_count": null,
   "metadata": {},
   "outputs": [],
   "source": [
    "beh_counts.iplot(kind='bar',\n",
    "                      title = 'BEH_Category Counts',\n",
    "                      xTitle = 'Category',\n",
    "                      yTitle = 'Number of Businesses')"
   ]
  },
  {
   "cell_type": "code",
   "execution_count": null,
   "metadata": {},
   "outputs": [],
   "source": [
    "beh_counts.to_csv('BEH_Category Counts.csv')"
   ]
  },
  {
   "cell_type": "code",
   "execution_count": null,
   "metadata": {},
   "outputs": [],
   "source": [
    "%%time\n",
    "#additively get longitudinal counts for additional chunks\n",
    "for chunk in df_long:\n",
    "    counts = counts.add(chunk.groupby(['Year','Class']).count()['DunsNumber'], fill_value=0)"
   ]
  },
  {
   "cell_type": "code",
   "execution_count": null,
   "metadata": {},
   "outputs": [],
   "source": [
    "counts_newindex = counts.reset_index(name='counts')\n",
    "dropnot = counts_newindex[counts_newindex.Class != 'not']\n",
    "counts_pivot = dropnot.pivot('Year','Class','counts').fillna(0).astype(int) #pivot for line graph"
   ]
  },
  {
   "cell_type": "code",
   "execution_count": null,
   "metadata": {},
   "outputs": [],
   "source": [
    "#color array to use for charts later\n",
    "modcolors = ['red', 'blue', 'green', 'brown', 'aqua', 'violet', 'crimson', 'darkgoldenrod', 'cornflowerblue', 'pink', 'yellow', \n",
    "          'ghostwhite', 'deepskyblue', 'darksalmon', 'darkcyan', 'black', 'gold', 'lightcoral', 'lightseagreen',\n",
    "         'magenta', 'midnightblue', 'olive', 'orange', 'purple', 'silver', 'springgreen', 'violet']\n",
    "colors = modcolors\n",
    "modcolors.remove('cornflowerblue')"
   ]
  },
  {
   "cell_type": "code",
   "execution_count": null,
   "metadata": {},
   "outputs": [],
   "source": [
    "counts_pivot.iplot(kind='line',\n",
    "                    title = 'Business Categories Change over Time (All Destinations)',\n",
    "                    xTitle = 'Year',\n",
    "                    yTitle = 'Number of Businesses',\n",
    "                    colors = colors) #full plot"
   ]
  },
  {
   "cell_type": "code",
   "execution_count": null,
   "metadata": {},
   "outputs": [],
   "source": [
    "dropdes = dropnot[dropnot.Class != 'des']\n",
    "withdes = counts_pivot\n",
    "counts_pivot = dropdes.pivot('Year','Class','counts').fillna(0).astype(int) #pivot for line graph"
   ]
  },
  {
   "cell_type": "code",
   "execution_count": null,
   "metadata": {},
   "outputs": [],
   "source": [
    "counts_pivot.iplot(kind='line',\n",
    "                    title = 'Business Categories Change over Time, DES Removed',\n",
    "                    xTitle = 'Year',\n",
    "                    yTitle = 'Number of Businesses',\n",
    "                    colors = modcolors) #full plot"
   ]
  },
  {
   "cell_type": "code",
   "execution_count": null,
   "metadata": {},
   "outputs": [],
   "source": [
    "counts_pivot['aff'].iplot(kind='line',\n",
    "                    title = 'All Fast Food Change over Time',\n",
    "                    xTitle = 'Year',\n",
    "                    yTitle = 'Number of Businesses',\n",
    "                    color = modcolors[0]) #full plot"
   ]
  },
  {
   "cell_type": "code",
   "execution_count": null,
   "metadata": {},
   "outputs": [],
   "source": [
    "counts_pivot['bak'].iplot(kind='line',\n",
    "                    title = 'Bakeries Change over Time',\n",
    "                    xTitle = 'Year',\n",
    "                    yTitle = 'Number of Businesses',\n",
    "                    color = modcolors[1]) #full plot"
   ]
  },
  {
   "cell_type": "code",
   "execution_count": null,
   "metadata": {},
   "outputs": [],
   "source": [
    "counts_pivot['bar'].iplot(kind='line',\n",
    "                    title = 'Bars Change over Time',\n",
    "                    xTitle = 'Year',\n",
    "                    yTitle = 'Number of Businesses',\n",
    "                    color = modcolors[2]) #full plot"
   ]
  },
  {
   "cell_type": "code",
   "execution_count": null,
   "metadata": {},
   "outputs": [],
   "source": [
    "counts_pivot['bds'].iplot(kind='line',\n",
    "                    title = 'Bodegas Change over Time',\n",
    "                    xTitle = 'Year',\n",
    "                    yTitle = 'Number of Businesses',\n",
    "                    color = modcolors[3]) #full plot"
   ]
  },
  {
   "cell_type": "code",
   "execution_count": null,
   "metadata": {},
   "outputs": [],
   "source": [
    "counts_pivot['bnk'].iplot(kind='line',\n",
    "                    title = 'Banks Change over Time',\n",
    "                    xTitle = 'Year',\n",
    "                    yTitle = 'Number of Businesses',\n",
    "                    color = modcolors[4]) #full plot"
   ]
  },
  {
   "cell_type": "code",
   "execution_count": null,
   "metadata": {},
   "outputs": [],
   "source": [
    "counts_pivot['cnv'].iplot(kind='line',\n",
    "                    title = 'Convenience Stores Change over Time',\n",
    "                    xTitle = 'Year',\n",
    "                    yTitle = 'Number of Businesses',\n",
    "                    color = modcolors[5]) #full plot"
   ]
  },
  {
   "cell_type": "code",
   "execution_count": null,
   "metadata": {},
   "outputs": [],
   "source": [
    "counts_pivot['crd'].iplot(kind='line',\n",
    "                    title = 'Credit Unions Change over Time',\n",
    "                    xTitle = 'Year',\n",
    "                    yTitle = 'Number of Businesses',\n",
    "                    color = modcolors[6]) #full plot"
   ]
  },
  {
   "cell_type": "code",
   "execution_count": null,
   "metadata": {},
   "outputs": [],
   "source": [
    "counts_pivot['dds'].iplot(kind='line',\n",
    "                    title = 'Dental Care Facilities Change over Time',\n",
    "                    xTitle = 'Year',\n",
    "                    yTitle = 'Number of Businesses',\n",
    "                    color = modcolors[7]) #full plot"
   ]
  },
  {
   "cell_type": "code",
   "execution_count": null,
   "metadata": {},
   "outputs": [],
   "source": [
    "withdes['des'].iplot(kind='line',\n",
    "                    title = 'Other Destinations Change over Time',\n",
    "                    xTitle = 'Year',\n",
    "                    yTitle = 'Number of Businesses',\n",
    "                    color = 'cornflowerblue') #full plot"
   ]
  },
  {
   "cell_type": "code",
   "execution_count": null,
   "metadata": {},
   "outputs": [],
   "source": [
    "counts_pivot['drg'].iplot(kind='line',\n",
    "                    title = 'Pharmacies Change over Time',\n",
    "                    xTitle = 'Year',\n",
    "                    yTitle = 'Number of Businesses',\n",
    "                    color = modcolors[8]) #full plot"
   ]
  },
  {
   "cell_type": "code",
   "execution_count": null,
   "metadata": {},
   "outputs": [],
   "source": [
    "counts_pivot['eat'].iplot(kind='line',\n",
    "                    title = 'Eating Places Change over Time',\n",
    "                    xTitle = 'Year',\n",
    "                    yTitle = 'Number of Businesses',\n",
    "                    color = modcolors[9]) #full plot"
   ]
  },
  {
   "cell_type": "code",
   "execution_count": null,
   "metadata": {},
   "outputs": [],
   "source": [
    "counts_pivot['fsh'].iplot(kind='line',\n",
    "                    title = 'Fish Markets Change over Time',\n",
    "                    xTitle = 'Year',\n",
    "                    yTitle = 'Number of Businesses',\n",
    "                    color = 'purple') #full plot"
   ]
  },
  {
   "cell_type": "code",
   "execution_count": null,
   "metadata": {},
   "outputs": [],
   "source": [
    "counts_pivot['fvm'].iplot(kind='line',\n",
    "                    title = 'Fruit and Vegetable Markets Change over Time',\n",
    "                    xTitle = 'Year',\n",
    "                    yTitle = 'Number of Businesses',\n",
    "                    color = modcolors[11]) #full plot"
   ]
  },
  {
   "cell_type": "code",
   "execution_count": null,
   "metadata": {},
   "outputs": [],
   "source": [
    "counts_pivot['gry'].iplot(kind='line',\n",
    "                    title = 'Small Grocery Stores Change over Time',\n",
    "                    xTitle = 'Year',\n",
    "                    yTitle = 'Number of Businesses',\n",
    "                    color = modcolors[12]) #full plot"
   ]
  },
  {
   "cell_type": "code",
   "execution_count": null,
   "metadata": {},
   "outputs": [],
   "source": [
    "counts_pivot['hpc'].iplot(kind='line',\n",
    "                    title = 'Offices or Clinics of Health Practitioners Change over Time',\n",
    "                    xTitle = 'Year',\n",
    "                    yTitle = 'Number of Businesses',\n",
    "                    color = modcolors[13]) #full plot"
   ]
  },
  {
   "cell_type": "code",
   "execution_count": null,
   "metadata": {},
   "outputs": [],
   "source": [
    "counts_pivot['liq'].iplot(kind='line',\n",
    "                    title = 'Liquor Stores Change over Time',\n",
    "                    xTitle = 'Year',\n",
    "                    yTitle = 'Number of Businesses',\n",
    "                    color = modcolors[14]) #full plot"
   ]
  },
  {
   "cell_type": "code",
   "execution_count": null,
   "metadata": {},
   "outputs": [],
   "source": [
    "counts_pivot['met'].iplot(kind='line',\n",
    "                    title = 'Meat Markets Change over Time',\n",
    "                    xTitle = 'Year',\n",
    "                    yTitle = 'Number of Businesses',\n",
    "                    color = modcolors[15]) #full plot"
   ]
  },
  {
   "cell_type": "code",
   "execution_count": null,
   "metadata": {},
   "outputs": [],
   "source": [
    "counts_pivot['mhc'].iplot(kind='line',\n",
    "                    title = 'Mental Health Care Facilities Change over Time',\n",
    "                    xTitle = 'Year',\n",
    "                    yTitle = 'Number of Businesses',\n",
    "                    color = modcolors[16]) #full plot"
   ]
  },
  {
   "cell_type": "code",
   "execution_count": null,
   "metadata": {},
   "outputs": [],
   "source": [
    "counts_pivot['mpa'].iplot(kind='line',\n",
    "                    title = 'Light/Moderate Physical Activity Facilities Change over Time',\n",
    "                    xTitle = 'Year',\n",
    "                    yTitle = 'Number of Businesses',\n",
    "                    color = modcolors[17]) #full plot"
   ]
  },
  {
   "cell_type": "code",
   "execution_count": null,
   "metadata": {},
   "outputs": [],
   "source": [
    "counts_pivot['mul'].iplot(kind='line',\n",
    "                    title = 'Multi-use Physical Activity Facilities Change over Time',\n",
    "                    xTitle = 'Year',\n",
    "                    yTitle = 'Number of Businesses',\n",
    "                    color = modcolors[18]) #full plot"
   ]
  },
  {
   "cell_type": "code",
   "execution_count": null,
   "metadata": {},
   "outputs": [],
   "source": [
    "counts_pivot['nat'].iplot(kind='line',\n",
    "                    title = 'Natural Food Stores Change over Time',\n",
    "                    xTitle = 'Year',\n",
    "                    yTitle = 'Number of Businesses',\n",
    "                    color = modcolors[19]) #full plot"
   ]
  },
  {
   "cell_type": "code",
   "execution_count": null,
   "metadata": {},
   "outputs": [],
   "source": [
    "counts_pivot['piz'].iplot(kind='line',\n",
    "                    title = 'Pizza Restaurants Change over Time',\n",
    "                    xTitle = 'Year',\n",
    "                    yTitle = 'Number of Businesses',\n",
    "                    color = modcolors[20]) #full plot"
   ]
  },
  {
   "cell_type": "code",
   "execution_count": null,
   "metadata": {},
   "outputs": [],
   "source": [
    "counts_pivot['res'].iplot(kind='line',\n",
    "                    title = 'Residential Facilities with Health Care Change over Time',\n",
    "                    xTitle = 'Year',\n",
    "                    yTitle = 'Number of Businesses',\n",
    "                    color = modcolors[21]) #full plot"
   ]
  },
  {
   "cell_type": "code",
   "execution_count": null,
   "metadata": {},
   "outputs": [],
   "source": [
    "counts_pivot['smk'].iplot(kind='line',\n",
    "                    title = 'Large Supermarkets Change over Time',\n",
    "                    xTitle = 'Year',\n",
    "                    yTitle = 'Number of Businesses',\n",
    "                    color = modcolors[22]) #full plot"
   ]
  },
  {
   "cell_type": "code",
   "execution_count": null,
   "metadata": {},
   "outputs": [],
   "source": [
    "counts_pivot['urg'].iplot(kind='line',\n",
    "                    title = 'Urgent Care Facilities Change over Time',\n",
    "                    xTitle = 'Year',\n",
    "                    yTitle = 'Number of Businesses',\n",
    "                    color = modcolors[23]) #full plot"
   ]
  },
  {
   "cell_type": "code",
   "execution_count": null,
   "metadata": {},
   "outputs": [],
   "source": [
    "counts_pivot['vpa'].iplot(kind='line',\n",
    "                    title = 'Vigorous Physical Activity Facilities Change over Time',\n",
    "                    xTitle = 'Year',\n",
    "                    yTitle = 'Number of Businesses',\n",
    "                    color = modcolors[24]) #full plot"
   ]
  },
  {
   "cell_type": "code",
   "execution_count": null,
   "metadata": {},
   "outputs": [],
   "source": [
    "counts_pivot['war'].iplot(kind='line',\n",
    "                    title = 'Warehouse and Discount Department Stores Selling Food Change over Time',\n",
    "                    xTitle = 'Year',\n",
    "                    yTitle = 'Number of Businesses',\n",
    "                    color = modcolors[25]) #full plot"
   ]
  },
  {
   "cell_type": "code",
   "execution_count": null,
   "metadata": {},
   "outputs": [],
   "source": [
    "counts_pivot[['aff', 'piz', 'eat']].iplot(kind='line',\n",
    "                    title = 'All Restaurants over Time',\n",
    "                    xTitle = 'Year',\n",
    "                    yTitle = 'Number of Businesses')"
   ]
  },
  {
   "cell_type": "code",
   "execution_count": null,
   "metadata": {},
   "outputs": [],
   "source": [
    "counts_pivot[['gry', 'smk', 'war', 'fsh', 'fvm', 'nat', 'bak', 'met', 'cnv', 'bds']].iplot(kind='line',\n",
    "                    title = 'All Food Retailers over Time',\n",
    "                    xTitle = 'Year',\n",
    "                    yTitle = 'Number of Businesses')"
   ]
  },
  {
   "cell_type": "code",
   "execution_count": null,
   "metadata": {},
   "outputs": [],
   "source": [
    "counts_pivot['food_retailers'] = counts_pivot['gry'] + counts_pivot['smk'] + counts_pivot['war'] + counts_pivot['fsh'] + \\\n",
    "counts_pivot['fvm'] + counts_pivot['nat'] + counts_pivot['bak'] + counts_pivot['met'] + counts_pivot['cnv'] + counts_pivot['bds']"
   ]
  },
  {
   "cell_type": "code",
   "execution_count": null,
   "metadata": {},
   "outputs": [],
   "source": [
    "counts_pivot['food_retailers'].iplot(kind='line',\n",
    "                    title = 'All Food Retailers (Combined) Over Time',\n",
    "                    xTitle = 'Year',\n",
    "                    yTitle = 'Number of Businesses')"
   ]
  },
  {
   "cell_type": "markdown",
   "metadata": {},
   "source": [
    "# Individual State Investigation\n",
    "\n",
    "We'll attempt to take a closer look at the trends shown above by looking more closely at the food environment in a few representative states\n",
    "\n",
    "- New York\n",
    "- Florida \n",
    "- California\n",
    "- Texas\n",
    "- Vermont\n",
    "- Illinois \n",
    "- Kansas\n",
    "- Colorado"
   ]
  },
  {
   "cell_type": "code",
   "execution_count": null,
   "metadata": {},
   "outputs": [],
   "source": [
    "infile = \"C:\\Users\\jc4673\\Documents\\Columbia\\NETS2013_Classifications.h5\""
   ]
  },
  {
   "cell_type": "code",
   "execution_count": null,
   "metadata": {},
   "outputs": [],
   "source": [
    "store = pd.HDFStore(infile, mode='r')\n",
    "store"
   ]
  },
  {
   "cell_type": "code",
   "execution_count": null,
   "metadata": {},
   "outputs": [],
   "source": [
    "%%time\n",
    "ind = store['CA'].index\n",
    "CAclass = store.select('Classifications', \"columns=['DunsNumber', 'FirstYear', 'LastYear', 'Class', 'BEH_Class'] & DunsNumber=ind\")"
   ]
  },
  {
   "cell_type": "code",
   "execution_count": null,
   "metadata": {},
   "outputs": [],
   "source": [
    "CA = store. select('Locations', where=\"'PrimState' == 'CA' & columns=['PrimState']\")"
   ]
  },
  {
   "cell_type": "code",
   "execution_count": null,
   "metadata": {},
   "outputs": [],
   "source": [
    "CA = CA.reset_index().drop_duplicates(subset='DunsNumber', keep='last').set_index('DunsNumber')\n",
    "del CA['FirstYear']"
   ]
  },
  {
   "cell_type": "code",
   "execution_count": null,
   "metadata": {},
   "outputs": [],
   "source": [
    "store.close()"
   ]
  },
  {
   "cell_type": "code",
   "execution_count": null,
   "metadata": {},
   "outputs": [],
   "source": [
    "store = pd.HDFStore(infile, mode='a')"
   ]
  },
  {
   "cell_type": "code",
   "execution_count": null,
   "metadata": {},
   "outputs": [],
   "source": [
    "store.append('CA', CA, format='table', data_columns=True, index=False)"
   ]
  },
  {
   "cell_type": "code",
   "execution_count": null,
   "metadata": {},
   "outputs": [],
   "source": [
    "store.close()"
   ]
  },
  {
   "cell_type": "code",
   "execution_count": null,
   "metadata": {},
   "outputs": [],
   "source": [
    "%xdel CA"
   ]
  },
  {
   "cell_type": "code",
   "execution_count": null,
   "metadata": {},
   "outputs": [],
   "source": [
    "classif = pd.read_hdf(infile, key='Classifications', columns=['LastYear', 'Class', 'BEH_Class'], chunksize=10**6)"
   ]
  },
  {
   "cell_type": "code",
   "execution_count": null,
   "metadata": {},
   "outputs": [],
   "source": [
    "store.open()"
   ]
  },
  {
   "cell_type": "code",
   "execution_count": null,
   "metadata": {},
   "outputs": [],
   "source": [
    "%%time\n",
    "df = pd.DataFrame()\n",
    "for chunk in classif:\n",
    "    df = pd.concat([df, store['CA'].join(chunk, how='inner')]) \n",
    "    #DunsNumber not included for some reason"
   ]
  },
  {
   "cell_type": "code",
   "execution_count": null,
   "metadata": {},
   "outputs": [],
   "source": [
    "df"
   ]
  },
  {
   "cell_type": "code",
   "execution_count": null,
   "metadata": {},
   "outputs": [],
   "source": [
    "df_long = pd.read_table(infile_long, usecols=['DunsNumber', 'Year', 'Class'], index_col=['DunsNumber', 'Year'], chunksize=10**6)\n",
    "df_normal = pd.read_table(infile_normal, index_col=['DunsNumber', 'FirstYear'], chunksize=10**6)\n",
    "df_loc = pd.read_table(location_filename, index_col=['DunsNumber'], chunksize=10**6)"
   ]
  },
  {
   "cell_type": "code",
   "execution_count": null,
   "metadata": {},
   "outputs": [],
   "source": [
    "loc_chunk = df_loc.get_chunk()\n",
    "loc_chunk = loc_chunk.groupby(loc_chunk.index).first()"
   ]
  },
  {
   "cell_type": "code",
   "execution_count": null,
   "metadata": {},
   "outputs": [],
   "source": [
    "allstates_chunk = loc_chunk[loc_chunk['PrimState'].isin(['NY', 'FL', 'CA', 'TX', 'VT', 'IL', 'KS', 'CO'])]"
   ]
  },
  {
   "cell_type": "code",
   "execution_count": null,
   "metadata": {},
   "outputs": [],
   "source": [
    "cal_chunk = loc_chunk[loc_chunk['PrimState'] == 'CA']"
   ]
  },
  {
   "cell_type": "code",
   "execution_count": null,
   "metadata": {},
   "outputs": [],
   "source": [
    "for chunk in df_loc:\n",
    "    first = chunk.groupby(chunk.index).first()\n",
    "    cal_chunk = cal_chunk.append(first[first['PrimState'] == 'CA'])\n",
    "cal_chunk = cal_chunk.groupby(cal_chunk.index).first()"
   ]
  },
  {
   "cell_type": "code",
   "execution_count": null,
   "metadata": {},
   "outputs": [],
   "source": [
    "cal_chunk = cal_chunk.groupby(cal_chunk.index).first()"
   ]
  },
  {
   "cell_type": "code",
   "execution_count": null,
   "metadata": {},
   "outputs": [],
   "source": [
    "cal_chunk = cal_chunk['PrimState']\n",
    "cal_chunk"
   ]
  },
  {
   "cell_type": "code",
   "execution_count": null,
   "metadata": {},
   "outputs": [],
   "source": [
    "%%time\n",
    "long_chunk = df_long.get_chunk()"
   ]
  },
  {
   "cell_type": "code",
   "execution_count": null,
   "metadata": {},
   "outputs": [],
   "source": [
    "%%time\n",
    "CA_long = long_chunk.join(cal_chunk, how='inner')"
   ]
  },
  {
   "cell_type": "code",
   "execution_count": null,
   "metadata": {},
   "outputs": [],
   "source": [
    "%%time\n",
    "for chunk in df_long:\n",
    "    CA_long = CA_long.append(chunk.join(cal_chunk, how='inner'))"
   ]
  },
  {
   "cell_type": "code",
   "execution_count": null,
   "metadata": {},
   "outputs": [],
   "source": [
    "CAcounts = CA_long.reset_index(drop=False).groupby(['Year', 'Class']).count().reset_index(drop=False)\n",
    "del CAcounts['PrimState']"
   ]
  },
  {
   "cell_type": "code",
   "execution_count": null,
   "metadata": {},
   "outputs": [],
   "source": [
    "CAcounts = CAcounts[CAcounts['Class'] != 'not']\n",
    "CAcounts"
   ]
  },
  {
   "cell_type": "code",
   "execution_count": null,
   "metadata": {},
   "outputs": [],
   "source": [
    "counts_pivot = CAcounts.pivot('Year','Class','DunsNumber').fillna(0).astype(int) #pivot for line graph\n",
    "counts_pivot"
   ]
  },
  {
   "cell_type": "code",
   "execution_count": null,
   "metadata": {},
   "outputs": [],
   "source": [
    "counts_pivot.iplot(kind='line',\n",
    "                    title = 'Business Categories Change over Time (All Destinations)',\n",
    "                    xTitle = 'Year',\n",
    "                    yTitle = 'Number of Businesses') #full plot"
   ]
  },
  {
   "cell_type": "code",
   "execution_count": null,
   "metadata": {},
   "outputs": [],
   "source": [
    "counts_pivot[['gry', 'smk', 'war', 'fsh', 'fvm', 'nat', 'bak', 'met', 'cnv', 'bds']].iplot(kind='line',\n",
    "                    title = 'All Food Retailers over Time',\n",
    "                    xTitle = 'Year',\n",
    "                    yTitle = 'Number of Businesses')"
   ]
  },
  {
   "cell_type": "code",
   "execution_count": null,
   "metadata": {},
   "outputs": [],
   "source": [
    "counts_pivot[['gry', 'smk']].iplot(kind='line',\n",
    "                    title = 'All Food Retailers over Time',\n",
    "                    xTitle = 'Year',\n",
    "                    yTitle = 'Number of Businesses')"
   ]
  },
  {
   "cell_type": "code",
   "execution_count": null,
   "metadata": {},
   "outputs": [],
   "source": [
    "from bisect import bisect_left\n",
    "\n",
    "def takeClosest(myList, myNumber):\n",
    "    \"\"\"\n",
    "    Assumes myList is sorted. Returns closest value to myNumber.\n",
    "\n",
    "    If two numbers are equally close, return the smallest number.\n",
    "    \"\"\"\n",
    "    pos = bisect_left(myList, myNumber)\n",
    "    if pos == 0:\n",
    "        return myList[0]\n",
    "    if pos == len(myList):\n",
    "        return myList[-1]\n",
    "    before = myList[pos - 1]\n",
    "    after = myList[pos]\n",
    "    if after - myNumber < myNumber - before:\n",
    "       return after\n",
    "    else:\n",
    "       return before"
   ]
  },
  {
   "cell_type": "code",
   "execution_count": null,
   "metadata": {},
   "outputs": [],
   "source": [
    "# Select all CA duns from the current chunk\n",
    "%timeit CAchunk = long_chunk.loc[CAduns[:CAduns.index(takeClosest(CAduns, long_chunk.index.get_level_values(0)[-1]))]]"
   ]
  },
  {
   "cell_type": "code",
   "execution_count": null,
   "metadata": {},
   "outputs": [],
   "source": [
    "indices = CAduns[:CAduns.index(takeClosest(CAduns, long_chunk.index.get_level_values(0)[-1]))]"
   ]
  },
  {
   "cell_type": "code",
   "execution_count": null,
   "metadata": {},
   "outputs": [],
   "source": [
    "CAchunk = long_chunk.at[CAduns[:CAduns.index(takeClosest(CAduns, long_chunk.index.get_level_values(0)[-1]))]]"
   ]
  },
  {
   "cell_type": "code",
   "execution_count": null,
   "metadata": {},
   "outputs": [],
   "source": []
  }
 ],
 "metadata": {
  "kernelspec": {
   "display_name": "Python 2",
   "language": "python",
   "name": "python2"
  },
  "language_info": {
   "codemirror_mode": {
    "name": "ipython",
    "version": 2
   },
   "file_extension": ".py",
   "mimetype": "text/x-python",
   "name": "python",
   "nbconvert_exporter": "python",
   "pygments_lexer": "ipython2"
  }
 },
 "nbformat": 4,
 "nbformat_minor": 0
}
